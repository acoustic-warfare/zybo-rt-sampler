{
 "cells": [
  {
   "cell_type": "code",
   "execution_count": null,
   "metadata": {},
   "outputs": [],
   "source": [
    "import numpy as np\n",
    "import matplotlib.pyplot as plt\n",
    "from interface import config\n",
    "\n",
    "from lib.tests import pad_delay_wrapper, mimo_pad_wrapper, mimo_convolve_wrapper, mimo_lerp_wrapper\n",
    "from lib.directions import calculate_coefficients, calculate_delays\n"
   ]
  },
  {
   "cell_type": "code",
   "execution_count": null,
   "metadata": {},
   "outputs": [],
   "source": [
    "whole_samples, adaptive_array = calculate_coefficients()\n",
    "samp_delay = calculate_delays()"
   ]
  },
  {
   "cell_type": "code",
   "execution_count": null,
   "metadata": {},
   "outputs": [],
   "source": [
    "def generate_sig(frequency):\n",
    "    start_time = 0\n",
    "    end_time = 1\n",
    "    sample_rate = config.fs\n",
    "    time = np.arange(start_time, end_time, 1/sample_rate)\n",
    "    theta = 0\n",
    "    amplitude = 1\n",
    "    sinewave = amplitude * np.sin(2 * np.pi * frequency * time + theta)[:config.N_SAMPLES]\n",
    "    return sinewave\n",
    "\n",
    "\n",
    "def generate_signals_all(signal: np.ndarray):\n",
    "    signals = np.repeat(signal, config.N_MICROPHONES, axis=0).reshape((config.N_SAMPLES, config.N_MICROPHONES)).T\n",
    "    return np.float32(signals)\n",
    "\n",
    "signal = generate_sig(8000)\n",
    "\n",
    "signals = generate_signals_all(signal)\n",
    "\n",
    "plt.plot(signals[0,:])\n"
   ]
  },
  {
   "cell_type": "code",
   "execution_count": null,
   "metadata": {},
   "outputs": [],
   "source": [
    "a = mimo_pad_wrapper(signals)\n",
    "plt.imshow(a.T)"
   ]
  },
  {
   "cell_type": "code",
   "execution_count": null,
   "metadata": {},
   "outputs": [],
   "source": [
    "c = mimo_lerp_wrapper(signals)\n",
    "plt.imshow(c.T)"
   ]
  },
  {
   "cell_type": "code",
   "execution_count": null,
   "metadata": {},
   "outputs": [],
   "source": [
    "# DO NOT USE AT THE MOMENT\n",
    "b = mimo_convolve_wrapper(signals)\n",
    "plt.imshow(b.T)"
   ]
  },
  {
   "cell_type": "code",
   "execution_count": null,
   "metadata": {},
   "outputs": [],
   "source": [
    "\n",
    "signal = generate_sig(5000)[1:101]\n",
    "\n",
    "def delay(signal, h, offset: int=0):\n",
    "    out = np.zeros_like(signal)\n",
    "\n",
    "    for i in range(len(signal) - offset - 1):\n",
    "        # out[offset + i + 1] += signal[i] + (1 - h) * (signal[i + 1] - signal[i])\n",
    "        out[offset + i + 1] += signal[i + 1] - h * (signal[i + 1] - signal[i])\n",
    "    # out[0] = signal[0]\n",
    "    \n",
    "    return out\n",
    "\n",
    "plt.plot(signal, label=\"Signal\")\n",
    "plt.plot(delay(signal, 0.99, 0), label=\"Delay\")\n",
    "plt.legend()"
   ]
  }
 ],
 "metadata": {
  "kernelspec": {
   "display_name": "Python 3",
   "language": "python",
   "name": "python3"
  },
  "language_info": {
   "codemirror_mode": {
    "name": "ipython",
    "version": 3
   },
   "file_extension": ".py",
   "mimetype": "text/x-python",
   "name": "python",
   "nbconvert_exporter": "python",
   "pygments_lexer": "ipython3",
   "version": "3.10.12"
  },
  "orig_nbformat": 4
 },
 "nbformat": 4,
 "nbformat_minor": 2
}
